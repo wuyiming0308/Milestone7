{
 "cells": [
  {
   "cell_type": "code",
   "execution_count": 126,
   "id": "181c36bd",
   "metadata": {},
   "outputs": [],
   "source": [
    "################## Milestone2 ##################"
   ]
  },
  {
   "cell_type": "code",
   "execution_count": 127,
   "id": "88b8f793",
   "metadata": {
    "scrolled": true
   },
   "outputs": [
    {
     "name": "stdout",
     "output_type": "stream",
     "text": [
      "    custID fraudster\n",
      "0     1129         0\n",
      "1     1225         0\n",
      "2     1316        NA\n",
      "3     1354         0\n",
      "4     1382         0\n",
      "..     ...       ...\n",
      "15    1762         0\n",
      "16    1796         0\n",
      "17    1803         0\n",
      "18    1808         0\n",
      "19    1820         0\n",
      "\n",
      "[20 rows x 2 columns]\n"
     ]
    }
   ],
   "source": [
    "### Download and unzip url\n",
    "import numpy as np\n",
    "from zipfile import ZipFile  \n",
    "from urllib.request import urlretrieve\n",
    "import os\n",
    "import pandas as pd\n",
    "from os import mkdir\n",
    "### specifiying url of zip file\n",
    "url = \"https://www.dropbox.com/s/yr9irxy4ew1xqj9/5109581.zip?dl=1\"\n",
    "csvname = url [-15:-9]\n",
    "# inputFile = \"./DownloadedFile.zip\"\n",
    "# outputDir = \"./DownloadedFile\"\n",
    "\n",
    "INPUT_FILE_SAVE_DIR = \"./DownloadedFile.zip\"\n",
    "OUTPUT_DIR = \"./DownloadFile/\"\n",
    "### put zip file in local directory -- this takes a while.. file is big\n",
    "# urlretrieve(url, inputFile)\n",
    "urlretrieve(url, INPUT_FILE_SAVE_DIR)\n",
    "### unzip contents into output folder -- this takes a while.. file is big\n",
    "# with ZipFile(inputFile) as zipObj:  \n",
    "#     zipObj.extractall(outputDir)\n",
    "with ZipFile(INPUT_FILE_SAVE_DIR) as zipObj:  \n",
    "    zipObj.extractall(OUTPUT_DIR)\n",
    "    \n",
    "\n",
    "### Extract pic names in the folder\n",
    "import os\n",
    "\n",
    "file_list = os.listdir(\"./DownloadFile\")\n",
    "file_list.sort()\n",
    "\n",
    "# remove .jpg\n",
    "new_list = [s.replace(\".jpg\", \"\") for s in file_list]\n",
    "# print(new_list)\n",
    "\n",
    "### input csv \n",
    "import pandas as pd\n",
    "CustomerList = pd.read_csv(\"./liveCustomerList.csv\") #read the csv file (put 'r' before the path string to address any special characters in the path, such as '\\'). Don't forget to put the file name at the end of the path + \".csv\"\n",
    "CustomerList['firstName'] = CustomerList['firstName'].str.upper()\n",
    "CustomerList['lastName'] = CustomerList['lastName'].str.upper()\n",
    "FraudList = pd.read_csv(\"./liveFraudList.csv\")\n",
    "FraudList[\"fraudster\"] = 'NA'\n",
    "\n",
    "#change custID list to Dataframe\n",
    "#***seperate custID and loginAcct\n",
    "jpg_custID = [s[0:4] for s in file_list]\n",
    "jpg_loginAcct = [s[-10:-4] for s in file_list]\n",
    "\n",
    "# print(jpg_custID)\n",
    "# print(jpg_loginAcct)\n",
    "\n",
    "custID = pd.DataFrame(jpg_custID, columns = ['custID'])\n",
    "loginAcct = pd.DataFrame(jpg_loginAcct, columns = ['loginAcct'])\n",
    "\n",
    "# change datatype\n",
    "custID['custID']=custID['custID'].astype(int)\n",
    "loginAcct['loginAcct']=loginAcct['loginAcct'].astype(int)\n",
    "# print (custID.dtypes)\n",
    "# print(custID)\n",
    "\n",
    "# left join table custID and customerlist\n",
    "custIDname = pd.merge(custID, CustomerList, on='custID', how='left')\n",
    "custIDnameFraud = pd.merge(custIDname, FraudList, on=[\n",
    "        'firstName', 'lastName'], how='left')\n",
    "custIDnameFraud['fraudster'] = custIDnameFraud['fraudster'].fillna(0)\n",
    "\n",
    "# FraudTestOnput.csv\n",
    "output_fraud = custIDnameFraud[['custID', 'fraudster']]\n",
    "print(output_fraud)"
   ]
  },
  {
   "cell_type": "code",
   "execution_count": 128,
   "id": "de9c3295",
   "metadata": {},
   "outputs": [],
   "source": [
    "################## Milestone3 ##################\n",
    "#print(custID)\n",
    " # previous downloaded file format\n",
    "AcctInput = custID.copy()\n",
    "AcctInput['loginAcct'] = jpg_loginAcct\n",
    "\n",
    "    # left join input table and customerlist\n",
    "custIDname_verify = pd.merge(\n",
    "    AcctInput, CustomerList, on='custID', how='left')\n",
    "\n",
    "    # input csv\n",
    "BankAcct = pd.read_csv(\"./liveBankAcct.csv\")\n",
    "BankAcct['firstName'] = BankAcct['firstName'].str.upper()\n",
    "BankAcct['lastName'] = BankAcct['lastName'].str.upper()\n",
    "custIDname_verify = custIDname_verify.astype({\"loginAcct\": int})\n",
    "\n",
    "    # left join with bankacct\n",
    "AcctName_verify = pd.merge(custIDname_verify, BankAcct,\n",
    "                               left_on='loginAcct', right_on='bankAcctID', how='left')\n",
    "\n",
    "    # add conditional rightAcctFlag column\n",
    "def f(AcctName_verify):\n",
    "    if AcctName_verify['firstName_x'] == AcctName_verify['firstName_y'] and AcctName_verify['lastName_x'] == AcctName_verify['lastName_y']:\n",
    "        val = 0\n",
    "    else:\n",
    "        val = 'NA'\n",
    "    return val\n",
    "AcctName_verify['rightAcctFlag'] = AcctName_verify.apply(f, axis=1)\n",
    "\n",
    "    # FraudTestOnput.csv\n",
    "output_verify = AcctName_verify[['custID', 'rightAcctFlag']]"
   ]
  },
  {
   "cell_type": "code",
   "execution_count": 129,
   "id": "9edc7f76",
   "metadata": {},
   "outputs": [
    {
     "name": "stdout",
     "output_type": "stream",
     "text": [
      "    custID loginAcct\n",
      "0     1129    439767\n",
      "1     1225    428807\n",
      "2     1316    616401\n",
      "3     1354    575618\n",
      "4     1382    385039\n",
      "..     ...       ...\n",
      "15    1762    770781\n",
      "16    1796    771040\n",
      "17    1803    323696\n",
      "18    1808    786402\n",
      "19    1820    356999\n",
      "\n",
      "[20 rows x 2 columns]\n"
     ]
    }
   ],
   "source": [
    "#previous downloaded file format\n",
    "AcctInput = custID.copy()\n",
    "AcctInput['loginAcct'] = jpg_loginAcct\n",
    "print(AcctInput)"
   ]
  },
  {
   "cell_type": "code",
   "execution_count": 130,
   "id": "d0305cfe",
   "metadata": {},
   "outputs": [
    {
     "name": "stdout",
     "output_type": "stream",
     "text": [
      "    custID  loginAcct firstName_x  lastName_x  bankAcctID firstName_y  \\\n",
      "0     1129     439767     CECILIA     BOLOCCO      439767     Cecilia   \n",
      "1     1225     428807       ERIKA      HAROLD      428807       Erika   \n",
      "2     1316     616401        JACK       STRAW      616401        Jack   \n",
      "3     1354     575618      JEREMY  GREENSTOCK      575618      Jeremy   \n",
      "4     1382     385039        JOHN       MAYER      385039        John   \n",
      "..     ...        ...         ...         ...         ...         ...   \n",
      "15    1762     770781         TOM     DASCHLE      770781      Nelson   \n",
      "16    1796     771040    VLADIMIR       PUTIN      771040    Vladimir   \n",
      "17    1803     323696       WAYNE    FERREIRA      323696       Wayne   \n",
      "18    1808     786402     WILLIAM   DONALDSON      786402     William   \n",
      "19    1820     356999      YASSER      ARAFAT      356999      Sophia   \n",
      "\n",
      "    lastName_y  rightAcctFlag  \n",
      "0      Bolocco              1  \n",
      "1       Harold              1  \n",
      "2        Straw              1  \n",
      "3   Greenstock              1  \n",
      "4        Mayer              1  \n",
      "..         ...            ...  \n",
      "15       Jones              1  \n",
      "16       Putin              1  \n",
      "17    Ferreira              1  \n",
      "18   Donaldson              1  \n",
      "19      Hughes              1  \n",
      "\n",
      "[20 rows x 8 columns]\n",
      "    custID  rightAcctFlag\n",
      "0     1129              1\n",
      "1     1225              1\n",
      "2     1316              1\n",
      "3     1354              1\n",
      "4     1382              1\n",
      "..     ...            ...\n",
      "15    1762              1\n",
      "16    1796              1\n",
      "17    1803              1\n",
      "18    1808              1\n",
      "19    1820              1\n",
      "\n",
      "[20 rows x 2 columns]\n"
     ]
    }
   ],
   "source": [
    "### left join input table and customerlist\n",
    "custIDname_verify = pd.merge(AcctInput, CustomerList, on='custID', how='left')\n",
    "\n",
    "# b=BankAcct.dtypes\n",
    "# print(b)\n",
    "# input csv\n",
    "BankAcct = pd.read_csv(\"./liveBankAcct.csv\")\n",
    "custIDname_verify=custIDname_verify.astype({\"loginAcct\":int})\n",
    "# a=custIDname_verify.dtypes\n",
    "# print(a)\n",
    "### left join with bankacct\n",
    "AcctName_verify = pd.merge(custIDname_verify, BankAcct, left_on='loginAcct', right_on='bankAcctID', how='left')\n",
    "\n",
    "\n",
    "###add conditional rightAcctFlag column\n",
    "def f(AcctName_verify):\n",
    "    if AcctName_verify['firstName_x']==AcctName_verify['firstName_y'] and AcctName_verify['lastName_x']==AcctName_verify['lastName_y']:\n",
    "        val = 0\n",
    "    else:\n",
    "        val = 1\n",
    "    return val\n",
    "AcctName_verify['rightAcctFlag'] = AcctName_verify.apply(f,axis=1)\n",
    "print(AcctName_verify)\n",
    "\n",
    "#FraudTestOnput.csv\n",
    "output_verify = AcctName_verify[['custID','rightAcctFlag']]\n",
    "print(output_verify)"
   ]
  },
  {
   "cell_type": "code",
   "execution_count": 131,
   "id": "b04f03e1",
   "metadata": {},
   "outputs": [],
   "source": [
    "################## Milestone5 ##################"
   ]
  },
  {
   "cell_type": "code",
   "execution_count": 132,
   "id": "659b5ae0",
   "metadata": {},
   "outputs": [],
   "source": [
    "#read startbalance & bankTransactions \n",
    "acctStBalan = pd.read_csv('./Milestone5Files/startBalance.csv')\n",
    "bankTrans = pd.read_csv('./Milestone5Files/bankTransactions.csv')"
   ]
  },
  {
   "cell_type": "code",
   "execution_count": 133,
   "id": "38ac9a39",
   "metadata": {},
   "outputs": [],
   "source": [
    "# left join loginAcct & startBalanceInfo\n",
    "acctStBalan = loginAcct.merge(acctStBalan, left_on = 'loginAcct', right_on='bankAcctID', how = 'left')\n",
    "# left join loginAcct & bankTransactions, append acctIDTrans to acctStBalanInfo\n",
    "acctIDTrans = loginAcct.merge(bankTrans, left_on = 'loginAcct', right_on='bankAcctID', how = 'left')\n",
    "\n",
    "acctIDTrans = acctIDTrans.rename({'transAmount': 'amt'}, axis =1)\n",
    "\n",
    "#append acctIDTrans to acctStBalanInfo\n",
    "acctsBalanInfo = acctStBalan.append(acctIDTrans, ignore_index = True)\n",
    "acctsBalanInfo = acctsBalanInfo[acctsBalanInfo.amt > 200]"
   ]
  },
  {
   "cell_type": "code",
   "execution_count": 134,
   "id": "fbf3455b",
   "metadata": {},
   "outputs": [
    {
     "name": "stdout",
     "output_type": "stream",
     "text": [
      "    bankAcctID    max_date second_max_date\n",
      "0       282849  2020-02-10      2019-12-23\n",
      "1       288395  2020-04-29      2020-04-27\n",
      "2       315403  2020-04-20      2020-04-14\n",
      "3       323696  2020-04-27      2020-04-13\n",
      "4       356999  2020-04-22      2020-04-09\n",
      "..         ...         ...             ...\n",
      "14      616401  2020-04-24      2020-04-10\n",
      "15      754976  2020-04-22      2020-04-08\n",
      "16      770781  2020-04-20      2020-04-06\n",
      "17      771040  2020-04-30      2020-04-15\n",
      "18      786402  2020-04-30      2020-04-15\n",
      "\n",
      "[19 rows x 3 columns]\n"
     ]
    }
   ],
   "source": [
    "second_max_date = acctsBalanInfo.sort_values([\"bankAcctID\",\"date\"], ascending=[1,0]).groupby(\"bankAcctID\").agg({\"date\":lambda x: x.shift(-1).values[0]}).reset_index()\n",
    "second_max_date.columns = second_max_date.columns.str.replace('date', 'second_max_date')\n",
    "max_date = acctsBalanInfo.groupby('bankAcctID')['date'].max().reset_index()\n",
    "max_date.columns = max_date.columns.str.replace('date', 'max_date')\n",
    "# left join second_max_date and max_date\n",
    "first_sec_max = max_date.merge(second_max_date, on = 'bankAcctID', how = 'left')\n",
    "print(first_sec_max)"
   ]
  },
  {
   "cell_type": "code",
   "execution_count": 135,
   "id": "8845a33e",
   "metadata": {},
   "outputs": [],
   "source": [
    "pay_method = [\n",
    "    ['2020-04-15','2020-04-30','2020-05-15'], \n",
    "    ['2020-04-17','2020-05-17','2020-06-17'],\n",
    "    ['2020-04-20','2020-05-20','2020-06-20'],\n",
    "    ['2020-04-10','2020-04-24','2020-05-08'],\n",
    "    ['2020-04-17','2020-04-24','2020-05-01'],\n",
    "    ['2020-04-30','2020-05-30','2020-06-30'],\n",
    "    ['2020-04-13','2020-04-27', '2020-05-11'],\n",
    "    ['2020-04-15','2020-05-15','2020-06-15'],\n",
    "    ['2020-04-20','2020-04-27', '2020-05-04'],\n",
    "    ['2020-04-23','2020-04-30', '2020-05-07'],\n",
    "    ['2020-04-23','2020-05-23','2020-06-23'],\n",
    "    ['2020-04-22','2020-05-22','2020-06-22'],\n",
    "    ['2020-04-21', '2020-05-21','2020-06-21'],\n",
    "    ['2020-04-10','2020-05-10','2020-06-10'],\n",
    "    ['2020-04-15', '2020-04-29', '2020-05-13'],\n",
    "    ['2020-04-13', '2020-05-13','2020-06-13'],\n",
    "    ['2020-04-14', '2020-04-28', '2020-05-12'],\n",
    "    ['2020-04-21','2020-04-28', '2020-05-05'], \n",
    "    ['2020-04-22', '2020-04-29', '2020-05-06'], \n",
    "    ['2020-04-16', '2020-04-30', '2020-05-14'], \n",
    "    ['2020-04-20', '2020-04-30', '2020-05-10'], \n",
    "    ['2020-04-27','2020-05-27','2020-06-27'],\n",
    "    ['2020-04-16','2020-05-16','2020-06-16'],\n",
    "    ['2020-04-27', '2020-04-30', '2020-05-03'],\n",
    "    ['2020-04-10', '2020-04-17', '2020-04-24'], \n",
    "    #add\n",
    "    ['2020-04-14', '2020-04-27', '2020-04-24'], \n",
    "    ['2020-04-03', '2020-04-17', '2020-05-01'], \n",
    "    ['2020-03-02', '2020-04-01', '2020-05-01'], #not sure\n",
    "    ['2020-04-07', '2020-04-21', '2020-05-05'],\n",
    "    ['2020-03-23', '2020-04-13', '2020-05-04'],\n",
    "    ['2020-04-09', '2020-04-23', '2020-05-07'],\n",
    "    ['2020-03-31', '2020-04-15', '2020-04-30'], #not sure\n",
    "    ['2020-03-31', '2020-04-30', '2020-05-29'],#not sure\n",
    "    ['2020-04-06', '2020-04-20', '2020-05-04'],\n",
    "    ['2020-04-08', '2020-04-22', '2020-05-06'],\n",
    "    ['2020-03-06', '2020-04-06', '2020-05-06'],\n",
    "    ['2020-03-30', '2020-04-13', '2020-04-27'],\n",
    "    ['2020-04-01', '2020-04-08', '2020-04-15'],\n",
    "    ['2020-03-20', '2020-04-20', '2020-05-20'],\n",
    "    ['2020-04-08', '2020-04-15', '2020-04-22'],\n",
    "    \n",
    "    \n",
    "    ]\n",
    "pay_pattern=pd.DataFrame(pay_method, columns = ['second_max_date','max_date','date'])\n",
    "# print(pay_pattern)\n",
    "# print(type(pay_pattern))"
   ]
  },
  {
   "cell_type": "code",
   "execution_count": 136,
   "id": "6606b2b2",
   "metadata": {},
   "outputs": [
    {
     "name": "stdout",
     "output_type": "stream",
     "text": [
      "    bankAcctID    max_date second_max_date        date\n",
      "0       282849  2020-02-10      2019-12-23          NA\n",
      "1       288395  2020-04-29      2020-04-27          NA\n",
      "2       315403  2020-04-20      2020-04-14          NA\n",
      "3       323696  2020-04-27      2020-04-13  2020-05-11\n",
      "4       356999  2020-04-22      2020-04-09          NA\n",
      "..         ...         ...             ...         ...\n",
      "14      616401  2020-04-24      2020-04-10  2020-05-08\n",
      "15      754976  2020-04-22      2020-04-08  2020-05-06\n",
      "16      770781  2020-04-20      2020-04-06  2020-05-04\n",
      "17      771040  2020-04-30      2020-04-15  2020-05-15\n",
      "18      786402  2020-04-30      2020-04-15  2020-05-15\n",
      "\n",
      "[19 rows x 4 columns]\n",
      "20\n"
     ]
    }
   ],
   "source": [
    "#Join first_sec_max and pay_pattern\n",
    "pred_result = first_sec_max.merge(pay_pattern, on = ['max_date','second_max_date'], how = 'left')\n",
    "#pd.set_option('display.max_rows', None)\n",
    "pd.options.display.max_rows = 10\n",
    "pred_result['date']=pred_result['date'].fillna('NA')\n",
    "print(pred_result)\n",
    "#count no-na\n",
    "print(20-pred_result['date'].isna().sum())"
   ]
  },
  {
   "cell_type": "code",
   "execution_count": 137,
   "id": "958d6fd9",
   "metadata": {
    "scrolled": true
   },
   "outputs": [
    {
     "name": "stdout",
     "output_type": "stream",
     "text": [
      "    custID       date1\n",
      "0     1709          NA\n",
      "1     1700          NA\n",
      "2     1703          NA\n",
      "3     1803  2020-05-11\n",
      "4     1820          NA\n",
      "..     ...         ...\n",
      "14    1316  2020-05-08\n",
      "15    1526  2020-05-06\n",
      "16    1762  2020-05-04\n",
      "17    1796  2020-05-15\n",
      "18    1808  2020-05-15\n",
      "\n",
      "[19 rows x 2 columns]\n"
     ]
    }
   ],
   "source": [
    "pred_result_bankAcctID=pred_result[['bankAcctID','date']]\n",
    "# left join loginAcct & startBalanceInfo\n",
    "AcctInput=AcctInput.astype({\"loginAcct\":int})\n",
    "pred_result_custID = pred_result_bankAcctID.merge(AcctInput, left_on = 'bankAcctID', right_on='loginAcct', how = 'left')\n",
    "output_date=pred_result_custID[['custID','date']]\n",
    "output_date.columns = ['custID','date1']\n",
    "print(output_date)"
   ]
  },
  {
   "cell_type": "code",
   "execution_count": 138,
   "id": "a7fcc8c5",
   "metadata": {},
   "outputs": [],
   "source": [
    "################## Milestone1 ##################"
   ]
  },
  {
   "cell_type": "code",
   "execution_count": 139,
   "id": "5df862f6",
   "metadata": {},
   "outputs": [],
   "source": [
    "import asyncio\n",
    "import io\n",
    "import glob\n",
    "import os\n",
    "import sys\n",
    "import time\n",
    "import uuid\n",
    "import requests\n",
    "from urllib.parse import urlparse\n",
    "from io import BytesIO\n",
    "# To install this module, run:\n",
    "# python -m pip install Pillow\n",
    "from PIL import Image, ImageDraw\n",
    "from azure.cognitiveservices.vision.face import FaceClient\n",
    "from msrest.authentication import CognitiveServicesCredentials\n",
    "from azure.cognitiveservices.vision.face.models import TrainingStatusType, Person, QualityForRecognition"
   ]
  },
  {
   "cell_type": "code",
   "execution_count": 140,
   "id": "fcbaae05",
   "metadata": {},
   "outputs": [
    {
     "ename": "IndexError",
     "evalue": "list index out of range",
     "output_type": "error",
     "traceback": [
      "\u001b[0;31m---------------------------------------------------------------------------\u001b[0m",
      "\u001b[0;31mIndexError\u001b[0m                                Traceback (most recent call last)",
      "\u001b[0;32m<ipython-input-140-02a4a6e4de78>\u001b[0m in \u001b[0;36m<module>\u001b[0;34m\u001b[0m\n\u001b[1;32m      2\u001b[0m \u001b[0;32mimport\u001b[0m \u001b[0mpandas\u001b[0m \u001b[0;32mas\u001b[0m \u001b[0mpd\u001b[0m\u001b[0;34m\u001b[0m\u001b[0;34m\u001b[0m\u001b[0m\n\u001b[1;32m      3\u001b[0m \u001b[0mdata_processer\u001b[0m \u001b[0;34m=\u001b[0m \u001b[0mDataProcessor\u001b[0m\u001b[0;34m(\u001b[0m\u001b[0;34m\"dd\"\u001b[0m\u001b[0;34m)\u001b[0m\u001b[0;34m\u001b[0m\u001b[0;34m\u001b[0m\u001b[0m\n\u001b[0;32m----> 4\u001b[0;31m \u001b[0mdata_processer\u001b[0m\u001b[0;34m.\u001b[0m\u001b[0mexecute\u001b[0m\u001b[0;34m(\u001b[0m\u001b[0;34m)\u001b[0m\u001b[0;34m\u001b[0m\u001b[0;34m\u001b[0m\u001b[0m\n\u001b[0m\u001b[1;32m      5\u001b[0m \u001b[0mpeople\u001b[0m \u001b[0;34m=\u001b[0m \u001b[0mdata_processer\u001b[0m\u001b[0;34m.\u001b[0m\u001b[0mpersons\u001b[0m\u001b[0;34m\u001b[0m\u001b[0;34m\u001b[0m\u001b[0m\n\u001b[1;32m      6\u001b[0m data = [[v.get_customer_id(), v.get_account_id(), v.fraud]\n",
      "\u001b[0;32m~/Desktop/milestone7/data_processor.py\u001b[0m in \u001b[0;36mexecute\u001b[0;34m(self)\u001b[0m\n\u001b[1;32m     43\u001b[0m \u001b[0;34m\u001b[0m\u001b[0m\n\u001b[1;32m     44\u001b[0m     \u001b[0;32mdef\u001b[0m \u001b[0mexecute\u001b[0m\u001b[0;34m(\u001b[0m\u001b[0mself\u001b[0m\u001b[0;34m)\u001b[0m\u001b[0;34m:\u001b[0m\u001b[0;34m\u001b[0m\u001b[0;34m\u001b[0m\u001b[0m\n\u001b[0;32m---> 45\u001b[0;31m         \u001b[0mself\u001b[0m\u001b[0;34m.\u001b[0m\u001b[0mdetect_face\u001b[0m\u001b[0;34m(\u001b[0m\u001b[0;34m)\u001b[0m\u001b[0;34m\u001b[0m\u001b[0;34m\u001b[0m\u001b[0m\n\u001b[0m\u001b[1;32m     46\u001b[0m         \u001b[0;32mreturn\u001b[0m \u001b[0;32mFalse\u001b[0m\u001b[0;34m\u001b[0m\u001b[0;34m\u001b[0m\u001b[0m\n\u001b[1;32m     47\u001b[0m \u001b[0;34m\u001b[0m\u001b[0m\n",
      "\u001b[0;32m~/Desktop/milestone7/data_processor.py\u001b[0m in \u001b[0;36mdetect_face\u001b[0;34m(self)\u001b[0m\n\u001b[1;32m     62\u001b[0m             \u001b[0mkey_user_file\u001b[0m \u001b[0;34m=\u001b[0m \u001b[0mk\u001b[0m \u001b[0;34m+\u001b[0m \u001b[0;34m\"_\"\u001b[0m \u001b[0;34m+\u001b[0m \u001b[0mkey_user_file\u001b[0m \u001b[0;34m+\u001b[0m \u001b[0;34m\".jpg\"\u001b[0m\u001b[0;34m\u001b[0m\u001b[0;34m\u001b[0m\u001b[0m\n\u001b[1;32m     63\u001b[0m             \u001b[0mtarget_id\u001b[0m \u001b[0;34m=\u001b[0m \u001b[0mself\u001b[0m\u001b[0;34m.\u001b[0m\u001b[0muse_api\u001b[0m\u001b[0;34m(\u001b[0m\u001b[0mOUTPUT_DIR\u001b[0m\u001b[0;34m+\u001b[0m\u001b[0mkey_user_file\u001b[0m\u001b[0;34m)\u001b[0m\u001b[0;34m\u001b[0m\u001b[0;34m\u001b[0m\u001b[0m\n\u001b[0;32m---> 64\u001b[0;31m             \u001b[0msouce_ids\u001b[0m \u001b[0;34m=\u001b[0m \u001b[0;34m[\u001b[0m\u001b[0mself\u001b[0m\u001b[0;34m.\u001b[0m\u001b[0muse_api\u001b[0m\u001b[0;34m(\u001b[0m\u001b[0mSOURCE_NAME\u001b[0m\u001b[0;34m+\u001b[0m\u001b[0mx\u001b[0m\u001b[0;34m)\u001b[0m \u001b[0;32mfor\u001b[0m \u001b[0mx\u001b[0m \u001b[0;32min\u001b[0m \u001b[0mv\u001b[0m\u001b[0;34m]\u001b[0m\u001b[0;34m\u001b[0m\u001b[0;34m\u001b[0m\u001b[0m\n\u001b[0m\u001b[1;32m     65\u001b[0m             \u001b[0mmyflag\u001b[0m \u001b[0;34m=\u001b[0m \u001b[0;32mFalse\u001b[0m\u001b[0;34m\u001b[0m\u001b[0;34m\u001b[0m\u001b[0m\n\u001b[1;32m     66\u001b[0m \u001b[0;34m\u001b[0m\u001b[0m\n",
      "\u001b[0;32m~/Desktop/milestone7/data_processor.py\u001b[0m in \u001b[0;36m<listcomp>\u001b[0;34m(.0)\u001b[0m\n\u001b[1;32m     62\u001b[0m             \u001b[0mkey_user_file\u001b[0m \u001b[0;34m=\u001b[0m \u001b[0mk\u001b[0m \u001b[0;34m+\u001b[0m \u001b[0;34m\"_\"\u001b[0m \u001b[0;34m+\u001b[0m \u001b[0mkey_user_file\u001b[0m \u001b[0;34m+\u001b[0m \u001b[0;34m\".jpg\"\u001b[0m\u001b[0;34m\u001b[0m\u001b[0;34m\u001b[0m\u001b[0m\n\u001b[1;32m     63\u001b[0m             \u001b[0mtarget_id\u001b[0m \u001b[0;34m=\u001b[0m \u001b[0mself\u001b[0m\u001b[0;34m.\u001b[0m\u001b[0muse_api\u001b[0m\u001b[0;34m(\u001b[0m\u001b[0mOUTPUT_DIR\u001b[0m\u001b[0;34m+\u001b[0m\u001b[0mkey_user_file\u001b[0m\u001b[0;34m)\u001b[0m\u001b[0;34m\u001b[0m\u001b[0;34m\u001b[0m\u001b[0m\n\u001b[0;32m---> 64\u001b[0;31m             \u001b[0msouce_ids\u001b[0m \u001b[0;34m=\u001b[0m \u001b[0;34m[\u001b[0m\u001b[0mself\u001b[0m\u001b[0;34m.\u001b[0m\u001b[0muse_api\u001b[0m\u001b[0;34m(\u001b[0m\u001b[0mSOURCE_NAME\u001b[0m\u001b[0;34m+\u001b[0m\u001b[0mx\u001b[0m\u001b[0;34m)\u001b[0m \u001b[0;32mfor\u001b[0m \u001b[0mx\u001b[0m \u001b[0;32min\u001b[0m \u001b[0mv\u001b[0m\u001b[0;34m]\u001b[0m\u001b[0;34m\u001b[0m\u001b[0;34m\u001b[0m\u001b[0m\n\u001b[0m\u001b[1;32m     65\u001b[0m             \u001b[0mmyflag\u001b[0m \u001b[0;34m=\u001b[0m \u001b[0;32mFalse\u001b[0m\u001b[0;34m\u001b[0m\u001b[0;34m\u001b[0m\u001b[0m\n\u001b[1;32m     66\u001b[0m \u001b[0;34m\u001b[0m\u001b[0m\n",
      "\u001b[0;32m~/Desktop/milestone7/data_processor.py\u001b[0m in \u001b[0;36muse_api\u001b[0;34m(self, name)\u001b[0m\n\u001b[1;32m     83\u001b[0m             \u001b[0mimage\u001b[0m \u001b[0;34m=\u001b[0m \u001b[0mopen\u001b[0m\u001b[0;34m(\u001b[0m\u001b[0mname\u001b[0m\u001b[0;34m,\u001b[0m \u001b[0;34m'r+b'\u001b[0m\u001b[0;34m)\u001b[0m\u001b[0;34m\u001b[0m\u001b[0;34m\u001b[0m\u001b[0m\n\u001b[1;32m     84\u001b[0m             \u001b[0mdetected_faces1\u001b[0m \u001b[0;34m=\u001b[0m \u001b[0mself\u001b[0m\u001b[0;34m.\u001b[0m\u001b[0mface_client\u001b[0m\u001b[0;34m.\u001b[0m\u001b[0mface\u001b[0m\u001b[0;34m.\u001b[0m\u001b[0mdetect_with_stream\u001b[0m\u001b[0;34m(\u001b[0m\u001b[0mimage\u001b[0m\u001b[0;34m,\u001b[0m \u001b[0mdetectionModel\u001b[0m\u001b[0;34m=\u001b[0m\u001b[0;34m'deteion_03'\u001b[0m\u001b[0;34m)\u001b[0m\u001b[0;34m\u001b[0m\u001b[0;34m\u001b[0m\u001b[0m\n\u001b[0;32m---> 85\u001b[0;31m             \u001b[0;32mif\u001b[0m \u001b[0mdetected_faces1\u001b[0m \u001b[0;32mis\u001b[0m \u001b[0;32mnot\u001b[0m \u001b[0;32mNone\u001b[0m \u001b[0;32mand\u001b[0m \u001b[0mlen\u001b[0m\u001b[0;34m(\u001b[0m\u001b[0mdetected_faces1\u001b[0m\u001b[0;34m)\u001b[0m \u001b[0;34m>=\u001b[0m \u001b[0;36m1\u001b[0m\u001b[0;34m:\u001b[0m\u001b[0;34m\u001b[0m\u001b[0;34m\u001b[0m\u001b[0m\n\u001b[0m\u001b[1;32m     86\u001b[0m                 \u001b[0;32mreturn\u001b[0m \u001b[0mdetected_faces1\u001b[0m\u001b[0;34m[\u001b[0m\u001b[0;36m0\u001b[0m\u001b[0;34m]\u001b[0m\u001b[0;34m.\u001b[0m\u001b[0mface_id\u001b[0m\u001b[0;34m\u001b[0m\u001b[0;34m\u001b[0m\u001b[0m\n\u001b[1;32m     87\u001b[0m         \u001b[0;32mexcept\u001b[0m\u001b[0;34m:\u001b[0m\u001b[0;34m\u001b[0m\u001b[0;34m\u001b[0m\u001b[0m\n",
      "\u001b[0;31mIndexError\u001b[0m: list index out of range"
     ]
    }
   ],
   "source": [
    "from data_processor import DataProcessor\n",
    "import pandas as pd\n",
    "data_processer = DataProcessor(\"dd\")\n",
    "data_processer.execute()\n",
    "people = data_processer.persons\n",
    "data = [[v.get_customer_id(), v.get_account_id(), v.fraud]\n",
    "        for v in people.values()]\n",
    "    #df = pd.DataFrame(data, columns = ['CustomerId', 'AccountId', 'verifiedId'])\n",
    "df = pd.DataFrame(data, columns=['custID', 'AccountId', 'verifiedId'])\n",
    "df['face'] = np.where((df['verifiedId'] == 0), 'NA', 0)\n",
    "output_face = df[['custID', 'face']]\n",
    "output_face['custID'] = output_face['custID'].astype(int)\n",
    "print(output_face)"
   ]
  },
  {
   "cell_type": "code",
   "execution_count": null,
   "id": "241e16f6",
   "metadata": {},
   "outputs": [
    {
     "ename": "IndexError",
     "evalue": "list index out of range",
     "output_type": "error",
     "traceback": [
      "\u001b[0;31m---------------------------------------------------------------------------\u001b[0m",
      "\u001b[0;31mIndexError\u001b[0m                                Traceback (most recent call last)",
      "\u001b[0;32m<ipython-input-119-3989ec2b69d4>\u001b[0m in \u001b[0;36m<module>\u001b[0;34m\u001b[0m\n\u001b[1;32m      2\u001b[0m \u001b[0;32mimport\u001b[0m \u001b[0mpandas\u001b[0m \u001b[0;32mas\u001b[0m \u001b[0mpd\u001b[0m\u001b[0;34m\u001b[0m\u001b[0;34m\u001b[0m\u001b[0m\n\u001b[1;32m      3\u001b[0m \u001b[0mdata_processer\u001b[0m \u001b[0;34m=\u001b[0m \u001b[0mDataProcessor\u001b[0m\u001b[0;34m(\u001b[0m\u001b[0;34m\"dd\"\u001b[0m\u001b[0;34m)\u001b[0m\u001b[0;34m\u001b[0m\u001b[0;34m\u001b[0m\u001b[0m\n\u001b[0;32m----> 4\u001b[0;31m \u001b[0mdata_processer\u001b[0m\u001b[0;34m.\u001b[0m\u001b[0mexecute\u001b[0m\u001b[0;34m(\u001b[0m\u001b[0;34m)\u001b[0m\u001b[0;34m\u001b[0m\u001b[0;34m\u001b[0m\u001b[0m\n\u001b[0m",
      "\u001b[0;32m~/Desktop/milestone7/data_processor.py\u001b[0m in \u001b[0;36mexecute\u001b[0;34m(self)\u001b[0m\n\u001b[1;32m     43\u001b[0m \u001b[0;34m\u001b[0m\u001b[0m\n\u001b[1;32m     44\u001b[0m     \u001b[0;32mdef\u001b[0m \u001b[0mexecute\u001b[0m\u001b[0;34m(\u001b[0m\u001b[0mself\u001b[0m\u001b[0;34m)\u001b[0m\u001b[0;34m:\u001b[0m\u001b[0;34m\u001b[0m\u001b[0;34m\u001b[0m\u001b[0m\n\u001b[0;32m---> 45\u001b[0;31m         \u001b[0mself\u001b[0m\u001b[0;34m.\u001b[0m\u001b[0mdetect_face\u001b[0m\u001b[0;34m(\u001b[0m\u001b[0;34m)\u001b[0m\u001b[0;34m\u001b[0m\u001b[0;34m\u001b[0m\u001b[0m\n\u001b[0m\u001b[1;32m     46\u001b[0m         \u001b[0;32mreturn\u001b[0m \u001b[0;32mFalse\u001b[0m\u001b[0;34m\u001b[0m\u001b[0;34m\u001b[0m\u001b[0m\n\u001b[1;32m     47\u001b[0m \u001b[0;34m\u001b[0m\u001b[0m\n",
      "\u001b[0;32m~/Desktop/milestone7/data_processor.py\u001b[0m in \u001b[0;36mdetect_face\u001b[0;34m(self)\u001b[0m\n\u001b[1;32m     62\u001b[0m             \u001b[0mkey_user_file\u001b[0m \u001b[0;34m=\u001b[0m \u001b[0mk\u001b[0m \u001b[0;34m+\u001b[0m \u001b[0;34m\"_\"\u001b[0m \u001b[0;34m+\u001b[0m \u001b[0mkey_user_file\u001b[0m \u001b[0;34m+\u001b[0m \u001b[0;34m\".jpg\"\u001b[0m\u001b[0;34m\u001b[0m\u001b[0;34m\u001b[0m\u001b[0m\n\u001b[1;32m     63\u001b[0m             \u001b[0mtarget_id\u001b[0m \u001b[0;34m=\u001b[0m \u001b[0mself\u001b[0m\u001b[0;34m.\u001b[0m\u001b[0muse_api\u001b[0m\u001b[0;34m(\u001b[0m\u001b[0mOUTPUT_DIR\u001b[0m\u001b[0;34m+\u001b[0m\u001b[0mkey_user_file\u001b[0m\u001b[0;34m)\u001b[0m\u001b[0;34m\u001b[0m\u001b[0;34m\u001b[0m\u001b[0m\n\u001b[0;32m---> 64\u001b[0;31m             \u001b[0msouce_ids\u001b[0m \u001b[0;34m=\u001b[0m \u001b[0;34m[\u001b[0m\u001b[0mself\u001b[0m\u001b[0;34m.\u001b[0m\u001b[0muse_api\u001b[0m\u001b[0;34m(\u001b[0m\u001b[0mSOURCE_NAME\u001b[0m\u001b[0;34m+\u001b[0m\u001b[0mx\u001b[0m\u001b[0;34m)\u001b[0m \u001b[0;32mfor\u001b[0m \u001b[0mx\u001b[0m \u001b[0;32min\u001b[0m \u001b[0mv\u001b[0m\u001b[0;34m]\u001b[0m\u001b[0;34m\u001b[0m\u001b[0;34m\u001b[0m\u001b[0m\n\u001b[0m\u001b[1;32m     65\u001b[0m             \u001b[0mmyflag\u001b[0m \u001b[0;34m=\u001b[0m \u001b[0;32mFalse\u001b[0m\u001b[0;34m\u001b[0m\u001b[0;34m\u001b[0m\u001b[0m\n\u001b[1;32m     66\u001b[0m \u001b[0;34m\u001b[0m\u001b[0m\n",
      "\u001b[0;32m~/Desktop/milestone7/data_processor.py\u001b[0m in \u001b[0;36m<listcomp>\u001b[0;34m(.0)\u001b[0m\n\u001b[1;32m     62\u001b[0m             \u001b[0mkey_user_file\u001b[0m \u001b[0;34m=\u001b[0m \u001b[0mk\u001b[0m \u001b[0;34m+\u001b[0m \u001b[0;34m\"_\"\u001b[0m \u001b[0;34m+\u001b[0m \u001b[0mkey_user_file\u001b[0m \u001b[0;34m+\u001b[0m \u001b[0;34m\".jpg\"\u001b[0m\u001b[0;34m\u001b[0m\u001b[0;34m\u001b[0m\u001b[0m\n\u001b[1;32m     63\u001b[0m             \u001b[0mtarget_id\u001b[0m \u001b[0;34m=\u001b[0m \u001b[0mself\u001b[0m\u001b[0;34m.\u001b[0m\u001b[0muse_api\u001b[0m\u001b[0;34m(\u001b[0m\u001b[0mOUTPUT_DIR\u001b[0m\u001b[0;34m+\u001b[0m\u001b[0mkey_user_file\u001b[0m\u001b[0;34m)\u001b[0m\u001b[0;34m\u001b[0m\u001b[0;34m\u001b[0m\u001b[0m\n\u001b[0;32m---> 64\u001b[0;31m             \u001b[0msouce_ids\u001b[0m \u001b[0;34m=\u001b[0m \u001b[0;34m[\u001b[0m\u001b[0mself\u001b[0m\u001b[0;34m.\u001b[0m\u001b[0muse_api\u001b[0m\u001b[0;34m(\u001b[0m\u001b[0mSOURCE_NAME\u001b[0m\u001b[0;34m+\u001b[0m\u001b[0mx\u001b[0m\u001b[0;34m)\u001b[0m \u001b[0;32mfor\u001b[0m \u001b[0mx\u001b[0m \u001b[0;32min\u001b[0m \u001b[0mv\u001b[0m\u001b[0;34m]\u001b[0m\u001b[0;34m\u001b[0m\u001b[0;34m\u001b[0m\u001b[0m\n\u001b[0m\u001b[1;32m     65\u001b[0m             \u001b[0mmyflag\u001b[0m \u001b[0;34m=\u001b[0m \u001b[0;32mFalse\u001b[0m\u001b[0;34m\u001b[0m\u001b[0;34m\u001b[0m\u001b[0m\n\u001b[1;32m     66\u001b[0m \u001b[0;34m\u001b[0m\u001b[0m\n",
      "\u001b[0;32m~/Desktop/milestone7/data_processor.py\u001b[0m in \u001b[0;36muse_api\u001b[0;34m(self, name)\u001b[0m\n\u001b[1;32m     83\u001b[0m         detected_faces1 = self.face_client.face.detect_with_stream(\n\u001b[1;32m     84\u001b[0m             image, detectionModel='deteion_03')\n\u001b[0;32m---> 85\u001b[0;31m \u001b[0;34m\u001b[0m\u001b[0m\n\u001b[0m\u001b[1;32m     86\u001b[0m \u001b[0;34m\u001b[0m\u001b[0m\n\u001b[1;32m     87\u001b[0m     \u001b[0;32mdef\u001b[0m \u001b[0mgenerateMap\u001b[0m\u001b[0;34m(\u001b[0m\u001b[0mself\u001b[0m\u001b[0;34m,\u001b[0m \u001b[0mtarget_names\u001b[0m\u001b[0;34m,\u001b[0m \u001b[0msouce_names\u001b[0m\u001b[0;34m)\u001b[0m\u001b[0;34m:\u001b[0m\u001b[0;34m\u001b[0m\u001b[0;34m\u001b[0m\u001b[0m\n",
      "\u001b[0;31mIndexError\u001b[0m: list index out of range"
     ]
    }
   ],
   "source": [
    "\"\"\"from data_processor import DataProcessor\n",
    "import pandas as pd\n",
    "data_processer = DataProcessor(\"dd\")\n",
    "data_processer.execute()\"\"\""
   ]
  },
  {
   "cell_type": "code",
   "execution_count": null,
   "id": "a77549d0",
   "metadata": {},
   "outputs": [
    {
     "name": "stdout",
     "output_type": "stream",
     "text": [
      "Empty DataFrame\n",
      "Columns: [custID, face]\n",
      "Index: []\n"
     ]
    }
   ],
   "source": [
    "\"\"\"people = data_processer.persons\n",
    "data = [[v.get_customer_id(), v.get_account_id(), v.fraud] for v in people.values()]\n",
    "#df = pd.DataFrame(data, columns = ['CustomerId', 'AccountId', 'verifiedId'])\n",
    "df = pd.DataFrame(data, columns = ['custID', 'AccountId', 'verifiedId'])\n",
    "df['face'] = np.where((df['verifiedId']==0), 'NA',0)\n",
    "output_face = df[['custID', 'face']]\n",
    "output_face['custID']=output_face['custID'].astype(int)\n",
    "\n",
    "# print(df)\n",
    "print(output_face)\"\"\""
   ]
  },
  {
   "cell_type": "code",
   "execution_count": null,
   "id": "f21965a5",
   "metadata": {},
   "outputs": [],
   "source": []
  },
  {
   "cell_type": "code",
   "execution_count": null,
   "id": "85d87517",
   "metadata": {},
   "outputs": [],
   "source": []
  },
  {
   "cell_type": "code",
   "execution_count": null,
   "id": "8b0c8a25",
   "metadata": {},
   "outputs": [],
   "source": [
    "################### join output_fraud, output_verify, output_date, ***output_face(milestone1)*** together"
   ]
  },
  {
   "cell_type": "code",
   "execution_count": null,
   "id": "c3b3f4ff",
   "metadata": {},
   "outputs": [
    {
     "name": "stdout",
     "output_type": "stream",
     "text": [
      "    custID fraudster  rightAcctFlag       date1 face\n",
      "0     1109         0              0          NA    0\n",
      "1     1110         0              0  2020-04-27    0\n",
      "2     1150         0              0  2020-05-15    0\n",
      "3     1195        NA              0  2020-05-15   NA\n",
      "4     1238         0              0  2020-05-01   NA\n",
      "..     ...       ...            ...         ...  ...\n",
      "21    1784         0              0          NA    0\n",
      "22    1798         0              0          NA    0\n",
      "23    1805         0              0  2020-05-08    0\n",
      "24    1817         0              0          NA    0\n",
      "25    1827         0              0          NA    0\n",
      "\n",
      "[26 rows x 5 columns]\n"
     ]
    }
   ],
   "source": [
    "fraud_verify = output_fraud.merge(output_verify, on='custID',how = 'left')\n",
    "fraud_verify_date = fraud_verify.merge(output_date, on='custID',how = 'left')\n",
    "fraud_verify_date_face = fraud_verify_date.merge(output_face, on='custID',how = 'left')\n",
    "print(fraud_verify_date_face)"
   ]
  },
  {
   "cell_type": "code",
   "execution_count": null,
   "id": "f1782493",
   "metadata": {},
   "outputs": [
    {
     "name": "stdout",
     "output_type": "stream",
     "text": [
      "    custID fraudster  rightAcctFlag       date1 face        date\n",
      "0     1109         0              0          NA    0          NA\n",
      "1     1110         0              0  2020-04-27    0  2020-04-27\n",
      "2     1150         0              0  2020-05-15    0  2020-05-15\n",
      "3     1195        NA              0  2020-05-15   NA          NA\n",
      "4     1238         0              0  2020-05-01   NA          NA\n",
      "..     ...       ...            ...         ...  ...         ...\n",
      "21    1784         0              0          NA    0          NA\n",
      "22    1798         0              0          NA    0          NA\n",
      "23    1805         0              0  2020-05-08    0  2020-05-08\n",
      "24    1817         0              0          NA    0          NA\n",
      "25    1827         0              0          NA    0          NA\n",
      "\n",
      "[26 rows x 6 columns]\n"
     ]
    }
   ],
   "source": [
    "#fraud_verify_date_face\n",
    "output_prep = fraud_verify_date_face.copy()\n",
    "output_prep['date'] = output_prep['date1']\n",
    "output_prep['date'] = np.where((output_prep['fraudster']=='NA') | (output_prep['rightAcctFlag']=='NA') | (output_prep['date1']=='NA') | (output_prep['face']=='NA'), 'NA',output_prep['date1'])\n",
    "print(output_prep)"
   ]
  },
  {
   "cell_type": "code",
   "execution_count": null,
   "id": "144d9958",
   "metadata": {
    "scrolled": true
   },
   "outputs": [
    {
     "name": "stdout",
     "output_type": "stream",
     "text": [
      "    loginID        date\n",
      "0      1109          NA\n",
      "1      1110  2020-04-27\n",
      "2      1150  2020-05-15\n",
      "3      1195          NA\n",
      "4      1238          NA\n",
      "..      ...         ...\n",
      "21     1784          NA\n",
      "22     1798          NA\n",
      "23     1805  2020-05-08\n",
      "24     1817          NA\n",
      "25     1827          NA\n",
      "\n",
      "[26 rows x 2 columns]\n"
     ]
    }
   ],
   "source": [
    "################## output csv ##################\n",
    "output = output_prep[['custID','date']]\n",
    "output.columns = ['loginID','date']\n",
    "print(output)"
   ]
  },
  {
   "cell_type": "code",
   "execution_count": null,
   "id": "8eab2986",
   "metadata": {},
   "outputs": [],
   "source": [
    "#write ID & fraudster columns to csv\n",
    "output.to_csv(csvname+'.csv', index = False)"
   ]
  }
 ],
 "metadata": {
  "kernelspec": {
   "display_name": "Python 3 (ipykernel)",
   "language": "python",
   "name": "python3"
  },
  "language_info": {
   "codemirror_mode": {
    "name": "ipython",
    "version": 3
   },
   "file_extension": ".py",
   "mimetype": "text/x-python",
   "name": "python",
   "nbconvert_exporter": "python",
   "pygments_lexer": "ipython3",
   "version": "3.8.8"
  }
 },
 "nbformat": 4,
 "nbformat_minor": 5
}
